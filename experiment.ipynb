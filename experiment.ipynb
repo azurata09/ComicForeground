{
 "cells": [
  {
   "cell_type": "code",
   "execution_count": 39,
   "metadata": {},
   "outputs": [],
   "source": [
    "import cv2\n",
    "import matplotlib.pyplot as plt\n",
    "from os import listdir"
   ]
  },
  {
   "cell_type": "code",
   "execution_count": 40,
   "metadata": {},
   "outputs": [],
   "source": [
    "face_cascade_path = './lbpcascade_animeface.xml'\n",
    "face_cascade = cv2.CascadeClassifier(face_cascade_path)"
   ]
  },
  {
   "cell_type": "code",
   "execution_count": 41,
   "metadata": {},
   "outputs": [
    {
     "name": "stdout",
     "output_type": "stream",
     "text": [
      "['./data/chara/100436.png', './data/chara/100807.png', './data/chara/100620.png', './data/chara/100594.png', './data/chara/100796.png', './data/chara/100384.png', './data/chara/100804.png', './data/chara/100838.png', './data/chara/100794.png', './data/chara/100780.png', './data/chara/100568.png', './data/chara/100756.png', './data/chara/100746.png', './data/chara/100814.png', './data/chara/100828.png', './data/chara/100802.png', './data/chara/100792.png', './data/chara/100552.png', './data/chara/100546.png', './data/chara/100750.png', './data/chara/100744.png', './data/chara/100624.png', './data/chara/100426.png', './data/chara/100354.png', './data/chara/100496.png', './data/chara/100482.png', './data/chara/100870.png', './data/chara/100680.png', './data/chara/100456.png', './data/chara/100490.png', './data/chara/100686.png', './data/chara/100876.png', './data/chara/100526.png', './data/chara/100730.png', './data/chara/100650.png', './data/chara/100644.png', './data/chara/100446.png', './data/chara/100108.png', './data/chara/100874.png', './data/chara/100684.png', './data/chara/100690.png', './data/chara/100492.png', './data/chara/101030.png', './data/chara/100878.png', './data/chara/100688.png', './data/chara/100516.png', './data/chara/100714.png', './data/chara/100728.png', './data/chara/100476.png', './data/chara/100462.png', './data/chara/100300.png', './data/chara/100506.png', './data/chara/100856.png', './data/chara/100868.png', './data/chara/100832.png', './data/chara/100774.png', './data/chara/100798.png', './data/chara/100766.png', './data/chara/100772.png', './data/chara/100360.png']\n"
     ]
    }
   ],
   "source": [
    "path_list = []\n",
    "base_path = './data/chara/'\n",
    "\n",
    "for image_paths in listdir(base_path): # Get path list\n",
    "  path_list.append(base_path + image_paths)\n",
    "\n",
    "print(path_list)"
   ]
  },
  {
   "cell_type": "code",
   "execution_count": 42,
   "metadata": {},
   "outputs": [],
   "source": [
    "src = cv2.imread('./data/200587.png') # ドレミファクトリー!"
   ]
  },
  {
   "cell_type": "code",
   "execution_count": 32,
   "metadata": {},
   "outputs": [],
   "source": [
    "src = cv2.imread('./data/200687.png') # 青空エール"
   ]
  },
  {
   "cell_type": "code",
   "execution_count": 33,
   "metadata": {},
   "outputs": [],
   "source": [
    "src = cv2.imread('./data/200818.png') # 輝け ! ビートシューター"
   ]
  },
  {
   "cell_type": "code",
   "execution_count": 43,
   "metadata": {},
   "outputs": [],
   "source": [
    "src_gray = cv2.cvtColor(src, cv2.COLOR_BGR2GRAY)"
   ]
  },
  {
   "cell_type": "code",
   "execution_count": 47,
   "metadata": {},
   "outputs": [],
   "source": [
    "# Frame\n",
    "frame = cv2.imread('./data/frame/Co1.png')\n",
    "frame_gray = cv2.cvtColor(frame, cv2.COLOR_BGR2GRAY)"
   ]
  },
  {
   "cell_type": "code",
   "execution_count": 48,
   "metadata": {},
   "outputs": [],
   "source": [
    "# Cascade faces\n",
    "faces = face_cascade.detectMultiScale(src_gray)"
   ]
  },
  {
   "cell_type": "code",
   "execution_count": 49,
   "metadata": {},
   "outputs": [],
   "source": [
    "# Sort face\n",
    "def sort_key(face):\n",
    "  return face[2] + face[3]\n",
    "\n",
    "face = sorted(faces, key = sort_key, reverse = True)"
   ]
  },
  {
   "cell_type": "code",
   "execution_count": 50,
   "metadata": {},
   "outputs": [],
   "source": [
    "# Draw rectangle on faces\n",
    "for x, y, w, h in faces:\n",
    "  cv2.rectangle(src, (x, y), (x + w, y + h), (255, 0, 0), 2)\n",
    "  break"
   ]
  },
  {
   "cell_type": "code",
   "execution_count": 51,
   "metadata": {},
   "outputs": [
    {
     "name": "stdout",
     "output_type": "stream",
     "text": [
      "[479 242 237 237]\n",
      "[968 458  57  57]\n"
     ]
    }
   ],
   "source": [
    "for face in faces:\n",
    "  print(face)"
   ]
  },
  {
   "cell_type": "code",
   "execution_count": null,
   "metadata": {},
   "outputs": [],
   "source": [
    "plt.imshow(cv2.cvtColor(src, cv2.COLOR_BGR2RGB))\n",
    "plt.show()"
   ]
  }
 ],
 "metadata": {
  "kernelspec": {
   "display_name": "Python 3 (ipykernel)",
   "language": "python",
   "name": "python3"
  },
  "language_info": {
   "codemirror_mode": {
    "name": "ipython",
    "version": 3
   },
   "file_extension": ".py",
   "mimetype": "text/x-python",
   "name": "python",
   "nbconvert_exporter": "python",
   "pygments_lexer": "ipython3",
   "version": "3.11.3"
  }
 },
 "nbformat": 4,
 "nbformat_minor": 2
}
